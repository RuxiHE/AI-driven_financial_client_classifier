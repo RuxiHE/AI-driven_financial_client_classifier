{
 "cells": [
  {
   "cell_type": "markdown",
   "metadata": {},
   "source": [
    "# Financial Client Classifier\n"
   ]
  },
  {
   "cell_type": "markdown",
   "metadata": {},
   "source": [
    "## Reading the Dataset"
   ]
  },
  {
   "cell_type": "markdown",
   "metadata": {},
   "source": [
    "**Reading the Dataset**"
   ]
  },
  {
   "cell_type": "code",
   "execution_count": 41,
   "metadata": {},
   "outputs": [],
   "source": [
    "import pandas as pd\n",
    "train_data = pd.read_csv('data/train_set.csv', index_col=0)\n",
    "test_data = pd.read_csv('data/test_set.csv', index_col=0)"
   ]
  },
  {
   "cell_type": "markdown",
   "metadata": {},
   "source": [
    "## Data preprocessing"
   ]
  },
  {
   "cell_type": "code",
   "execution_count": 42,
   "metadata": {},
   "outputs": [],
   "source": [
    "from sklearn.model_selection import train_test_split\n",
    "from sklearn.preprocessing import LabelEncoder\n",
    "\n",
    "def encode_columns(dataframe, columns):\n",
    "    \"\"\"\n",
    "    Encodes the specified columns of a DataFrame using Label Encoding.\n",
    "    Returns the transformed DataFrame and the fitted LabelEncoders for each column.\n",
    "    \"\"\"\n",
    "    encoders = {}\n",
    "    for col in columns:\n",
    "        if col in dataframe:\n",
    "            encoder = LabelEncoder()\n",
    "            dataframe[col] = encoder.fit_transform(dataframe[col])\n",
    "            encoders[col] = encoder\n",
    "        else:\n",
    "            raise KeyError(f\"Column '{col}' not found in the DataFrame.\")\n",
    "    return dataframe, encoders\n",
    "\n",
    "# Columns to encode\n",
    "columns_to_encode = ['Payment_Behaviour', 'Credit_Mix', 'Type_of_Loan', 'Occupation', 'Payment_of_Min_Amount', 'Credit_Score']\n",
    "\n",
    "# Apply encoding to train_data and store encoders\n",
    "train_data, encoders = encode_columns(train_data, columns_to_encode)\n",
    "\n",
    "# Use the same encoders for test_data\n",
    "for col, encoder in encoders.items():\n",
    "    if col in test_data:\n",
    "        test_data[col] = encoder.transform(test_data[col])\n",
    "        \n",
    "\n",
    "# Columns to train\n",
    "columns_to_train = ['Age',\n",
    "                    'Num_Bank_Accounts',\n",
    "                    'Num_Credit_Card',\n",
    "                    'Num_of_Loan',\n",
    "                    'Delay_from_due_date',\n",
    "                    'Num_of_Delayed_Payment',\n",
    "                    'Credit_History_Age',\n",
    "                    'Credit_Utilization_Ratio',\n",
    "                    'Annual_Income',\n",
    "                    'Monthly_Inhand_Salary',\n",
    "                    'Payment_Behaviour',\n",
    "                    'Type_of_Loan',\n",
    "                    'Num_Credit_Inquiries',\n",
    "                    'Changed_Credit_Limit',\n",
    "                    'Outstanding_Debt',\n",
    "                    'Total_EMI_per_month',\n",
    "                    'Amount_invested_monthly',\n",
    "                    'Monthly_Balance',\n",
    "                    'Occupation',\n",
    "                    'Payment_of_Min_Amount',\n",
    "                    'Credit_Mix']\n",
    "\n",
    "# Extracting features and label\n",
    "X_train = train_data[columns_to_train]\n",
    "y_train = train_data['Credit_Score']\n",
    "\n",
    "# Splitting data into training and validation sets\n",
    "X_train, X_val, y_train, y_val = train_test_split(X_train, y_train, test_size=0.2, random_state=42)\n",
    "\n",
    "# Extracting test features\n",
    "X_test = test_data[columns_to_train]"
   ]
  },
  {
   "cell_type": "markdown",
   "metadata": {},
   "source": [
    "## Training and valuating"
   ]
  },
  {
   "cell_type": "markdown",
   "metadata": {},
   "source": [
    "Our strategy is to first try out many models to find the top 3 algorithm, and then fine-tune these 3 estimators to find out the best estimator in each algorithm, and finally stack all the best estimator to form our stacking model."
   ]
  },
  {
   "cell_type": "markdown",
   "metadata": {},
   "source": [
    "## model selection"
   ]
  },
  {
   "cell_type": "code",
   "execution_count": 43,
   "metadata": {},
   "outputs": [
    {
     "name": "stderr",
     "output_type": "stream",
     "text": [
      "C:\\Users\\Herux\\AppData\\Local\\Packages\\PythonSoftwareFoundation.Python.3.11_qbz5n2kfra8p0\\LocalCache\\local-packages\\Python311\\site-packages\\sklearn\\linear_model\\_logistic.py:458: ConvergenceWarning: lbfgs failed to converge (status=1):\n",
      "STOP: TOTAL NO. of ITERATIONS REACHED LIMIT.\n",
      "\n",
      "Increase the number of iterations (max_iter) or scale the data as shown in:\n",
      "    https://scikit-learn.org/stable/modules/preprocessing.html\n",
      "Please also refer to the documentation for alternative solver options:\n",
      "    https://scikit-learn.org/stable/modules/linear_model.html#logistic-regression\n",
      "  n_iter_i = _check_optimize_result(\n"
     ]
    },
    {
     "name": "stdout",
     "output_type": "stream",
     "text": [
      "Test Scores:\n",
      "KNN: 0.7505\n",
      "SVC: 0.5257142857142857\n",
      "MLP: 0.5685714285714286\n",
      "LG: 0.5312142857142857\n",
      "RF: 0.8048571428571428\n",
      "XGBoost: 0.7657142857142857\n",
      "Naive_Bayes: 0.5875714285714285\n"
     ]
    }
   ],
   "source": [
    "from sklearn.neighbors import KNeighborsClassifier\n",
    "from sklearn.svm import SVC\n",
    "from sklearn.neural_network import MLPClassifier\n",
    "from sklearn.linear_model import LogisticRegression\n",
    "from sklearn.ensemble import RandomForestClassifier\n",
    "from xgboost import XGBClassifier\n",
    "from sklearn.naive_bayes import GaussianNB\n",
    "from sklearn.metrics import accuracy_score\n",
    "\n",
    "# Define the models\n",
    "models = {\n",
    "    'KNN': KNeighborsClassifier(),\n",
    "    'SVC': SVC(),\n",
    "    'MLP': MLPClassifier(),\n",
    "    'LG': LogisticRegression(),\n",
    "    'RF': RandomForestClassifier(),\n",
    "    'XGBoost': XGBClassifier(),\n",
    "    'Naive_Bayes': GaussianNB()\n",
    "}\n",
    "\n",
    "# Dictionary to store test scores\n",
    "test_scores = {}\n",
    "\n",
    "# Loop through the models, train and get test score\n",
    "for model_name, model in models.items():\n",
    "    # Train the model\n",
    "    model.fit(X_train, y_train)\n",
    "    \n",
    "    # Make predictions on the test set\n",
    "    predictions = model.predict(X_val)\n",
    "    \n",
    "    # Calculate the accuracy\n",
    "    accuracy = accuracy_score(y_val, predictions)\n",
    "    test_scores[model_name] = accuracy\n",
    "\n",
    "# Output the test scores\n",
    "print(\"Test Scores:\")\n",
    "for model_name, score in test_scores.items():\n",
    "    print(f\"{model_name}: {score}\")"
   ]
  },
  {
   "cell_type": "markdown",
   "metadata": {},
   "source": [
    "from the result, RF, XGBoost and KNN are the top 3 algorithm on accuracy. "
   ]
  },
  {
   "cell_type": "markdown",
   "metadata": {},
   "source": [
    "## fine-tuning "
   ]
  },
  {
   "cell_type": "code",
   "execution_count": 44,
   "metadata": {},
   "outputs": [
    {
     "name": "stdout",
     "output_type": "stream",
     "text": [
      "Fitting 5 folds for each of 16 candidates, totalling 80 fits\n",
      "Fitting 5 folds for each of 36 candidates, totalling 180 fits\n",
      "Fitting 5 folds for each of 27 candidates, totalling 135 fits\n"
     ]
    },
    {
     "name": "stderr",
     "output_type": "stream",
     "text": [
      "C:\\Users\\Herux\\AppData\\Local\\Packages\\PythonSoftwareFoundation.Python.3.11_qbz5n2kfra8p0\\LocalCache\\local-packages\\Python311\\site-packages\\joblib\\externals\\loky\\process_executor.py:700: UserWarning: A worker stopped while some jobs were given to the executor. This can be caused by a too short worker timeout or by a memory leak.\n",
      "  warnings.warn(\n"
     ]
    },
    {
     "name": "stdout",
     "output_type": "stream",
     "text": [
      "Best parameters for KNN: {'metric': 'manhattan', 'n_neighbors': 5, 'weights': 'distance'}\n",
      "Best score for KNN: 0.7742142857142857\n",
      "Best parameters for Random Forest: {'max_depth': None, 'min_samples_split': 2, 'n_estimators': 300}\n",
      "Best score for Random Forest: 0.7990357142857143\n",
      "Best parameters for XGBoost: {'learning_rate': 0.1, 'max_depth': 10, 'n_estimators': 300}\n",
      "Best score for XGBoost: 0.7893035714285715\n"
     ]
    }
   ],
   "source": [
    "from sklearn.model_selection import GridSearchCV\n",
    "from sklearn.neighbors import KNeighborsClassifier\n",
    "from sklearn.ensemble import RandomForestClassifier\n",
    "from xgboost import XGBClassifier\n",
    "\n",
    "# Define the parameter grid for KNN\n",
    "param_grid_knn = {\n",
    "    'n_neighbors': [3, 5, 7, 10],\n",
    "    'weights': ['uniform', 'distance'],\n",
    "    'metric': ['euclidean', 'manhattan']\n",
    "}\n",
    "\n",
    "# Define the parameter grid for Random Forest\n",
    "param_grid_rf = {\n",
    "    'n_estimators': [100, 200, 300],\n",
    "    'max_depth': [None, 10, 20, 30],\n",
    "    'min_samples_split': [2, 5, 10]\n",
    "}\n",
    "\n",
    "# Define the parameter grid for XGBoost\n",
    "param_grid_xgb = {\n",
    "    'n_estimators': [100, 200, 300],\n",
    "    'learning_rate': [0.01, 0.1, 0.2],\n",
    "    'max_depth': [3, 6, 10]\n",
    "}\n",
    "\n",
    "# Create the GridSearchCV objects\n",
    "grid_search_knn = GridSearchCV(KNeighborsClassifier(), param_grid_knn, cv=5, n_jobs=-1, verbose=2)\n",
    "grid_search_rf = GridSearchCV(RandomForestClassifier(), param_grid_rf, cv=5, n_jobs=-1, verbose=2)\n",
    "grid_search_xgb = GridSearchCV(XGBClassifier(), param_grid_xgb, cv=5, n_jobs=-1, verbose=2)\n",
    "\n",
    "# Fit the grid search to the data for KNN\n",
    "grid_search_knn.fit(X_train, y_train)\n",
    "\n",
    "# Fit the grid search to the data for Random Forest\n",
    "grid_search_rf.fit(X_train, y_train)\n",
    "\n",
    "# Fit the grid search to the data for XGBoost\n",
    "grid_search_xgb.fit(X_train, y_train)\n",
    "\n",
    "# Print the best parameters and scores for each model\n",
    "print(\"Best parameters for KNN:\", grid_search_knn.best_params_)\n",
    "print(\"Best score for KNN:\", grid_search_knn.best_score_)\n",
    "\n",
    "print(\"Best parameters for Random Forest:\", grid_search_rf.best_params_)\n",
    "print(\"Best score for Random Forest:\", grid_search_rf.best_score_)\n",
    "\n",
    "print(\"Best parameters for XGBoost:\", grid_search_xgb.best_params_)\n",
    "print(\"Best score for XGBoost:\", grid_search_xgb.best_score_)"
   ]
  },
  {
   "cell_type": "code",
   "execution_count": 45,
   "metadata": {},
   "outputs": [
    {
     "data": {
      "text/plain": [
       "['models/grid_search_xgb.pkl']"
      ]
     },
     "execution_count": 45,
     "metadata": {},
     "output_type": "execute_result"
    }
   ],
   "source": [
    "import joblib\n",
    "joblib.dump(grid_search_knn, \"models/grid_search_knn.pkl\")\n",
    "joblib.dump(grid_search_rf, \"models/grid_search_rf.pkl\")\n",
    "joblib.dump(grid_search_xgb, \"models/grid_search_xgb.pkl\")"
   ]
  },
  {
   "cell_type": "code",
   "execution_count": 46,
   "metadata": {},
   "outputs": [],
   "source": [
    "import joblib \n",
    "grid_search_knn = joblib.load('models/grid_search_knn.pkl')\n",
    "grid_search_rf = joblib.load('models/grid_search_rf.pkl')\n",
    "grid_search_xgb = joblib.load('models/grid_search_xgb.pkl')\n"
   ]
  },
  {
   "cell_type": "code",
   "execution_count": 47,
   "metadata": {},
   "outputs": [
    {
     "name": "stdout",
     "output_type": "stream",
     "text": [
      "Fitting 5 folds for each of 10 candidates, totalling 50 fits\n",
      "Best parameters for Logistic Regression: {'C': 10, 'penalty': 'l1', 'solver': 'liblinear'}\n"
     ]
    },
    {
     "name": "stderr",
     "output_type": "stream",
     "text": [
      "C:\\Users\\Herux\\AppData\\Local\\Packages\\PythonSoftwareFoundation.Python.3.11_qbz5n2kfra8p0\\LocalCache\\local-packages\\Python311\\site-packages\\sklearn\\svm\\_base.py:1244: ConvergenceWarning: Liblinear failed to converge, increase the number of iterations.\n",
      "  warnings.warn(\n"
     ]
    }
   ],
   "source": [
    "from sklearn.linear_model import LogisticRegression\n",
    "from sklearn.model_selection import GridSearchCV\n",
    "\n",
    "# Define the parameter grid for Logistic Regression\n",
    "param_grid_lg = {\n",
    "    'C': [0.01, 0.1, 1, 10, 100],\n",
    "    'penalty': ['l1', 'l2'],\n",
    "    'solver': ['liblinear']\n",
    "}\n",
    "\n",
    "# Create the GridSearchCV object for Logistic Regression\n",
    "grid_search_lg = GridSearchCV(LogisticRegression(), param_grid_lg, cv=5, n_jobs=-1, verbose=2)\n",
    "\n",
    "# Fit the grid search to the data for Logistic Regression\n",
    "grid_search_lg.fit(X_train, y_train)\n",
    "\n",
    "# Print the best parameters for Logistic Regression\n",
    "print(\"Best parameters for Logistic Regression:\", grid_search_lg.best_params_)"
   ]
  },
  {
   "cell_type": "markdown",
   "metadata": {},
   "source": [
    "### stacking"
   ]
  },
  {
   "cell_type": "code",
   "execution_count": 48,
   "metadata": {},
   "outputs": [
    {
     "name": "stdout",
     "output_type": "stream",
     "text": [
      "Stacking Ensemble Test Score: 0.8042142857142857\n"
     ]
    }
   ],
   "source": [
    "from sklearn.linear_model import LogisticRegression\n",
    "from sklearn.ensemble import StackingClassifier\n",
    "\n",
    "\n",
    "# Using the best models from previous grid searches\n",
    "best_knn = grid_search_knn.best_estimator_\n",
    "best_rf = grid_search_rf.best_estimator_\n",
    "best_xgb = grid_search_xgb.best_estimator_\n",
    "\n",
    "# Using the best LG model from the new grid search as the final estimator\n",
    "best_lg = grid_search_lg.best_estimator_\n",
    "\n",
    "# Define the stacking ensemble\n",
    "stacking_ensemble = StackingClassifier(\n",
    "    estimators=[('KNN', best_knn), ('RF', best_rf), ('XGBoost', best_xgb)],\n",
    "    final_estimator=best_lg,\n",
    "    cv=5\n",
    ")\n",
    "\n",
    "# Fit the stacking ensemble\n",
    "stacking_ensemble.fit(X_train, y_train)\n",
    "\n",
    "# valuate the model\n",
    "stacking_score = stacking_ensemble.score(X_val, y_val)\n",
    "print(\"Stacking Ensemble Test Score:\", stacking_score)"
   ]
  },
  {
   "cell_type": "code",
   "execution_count": 49,
   "metadata": {},
   "outputs": [
    {
     "name": "stdout",
     "output_type": "stream",
     "text": [
      "              precision    recall  f1-score   support\n",
      "\n",
      "           0       0.78      0.76      0.77      2546\n",
      "           1       0.80      0.82      0.81      4112\n",
      "           2       0.81      0.81      0.81      7342\n",
      "\n",
      "    accuracy                           0.80     14000\n",
      "   macro avg       0.80      0.80      0.80     14000\n",
      "weighted avg       0.80      0.80      0.80     14000\n",
      "\n"
     ]
    }
   ],
   "source": [
    "from sklearn.metrics import classification_report\n",
    "\n",
    "y_pred = stacking_ensemble.predict(X_val)\n",
    "classification_rep = classification_report(y_val, y_pred)\n",
    "print(classification_rep)"
   ]
  },
  {
   "cell_type": "code",
   "execution_count": 50,
   "metadata": {},
   "outputs": [
    {
     "data": {
      "text/plain": [
       "['models/stacking_ensemble.pkl']"
      ]
     },
     "execution_count": 50,
     "metadata": {},
     "output_type": "execute_result"
    }
   ],
   "source": [
    "joblib.dump(stacking_ensemble, 'models/stacking_ensemble.pkl')"
   ]
  },
  {
   "cell_type": "markdown",
   "metadata": {},
   "source": [
    "## Generating the Submission"
   ]
  },
  {
   "cell_type": "markdown",
   "metadata": {},
   "source": [
    "Below you will find a function that does the predictions for the test set and generates a submission, this submission is to be uploaded to kaggle to update the leaderboard"
   ]
  },
  {
   "cell_type": "code",
   "execution_count": 52,
   "metadata": {},
   "outputs": [],
   "source": [
    "def generate_submission():\n",
    "    list_of_predictions = stacking_ensemble.predict(X_test)\n",
    "    preds = encoders[\"Credit_Score\"].inverse_transform(list_of_predictions)\n",
    "    df = pd.DataFrame({'Credit_Score': preds}, index=X_test.index)\n",
    "    df.to_csv('sandbox_submission3.csv')"
   ]
  },
  {
   "cell_type": "code",
   "execution_count": 53,
   "metadata": {},
   "outputs": [],
   "source": [
    "generate_submission()"
   ]
  }
 ],
 "metadata": {
  "kernelspec": {
   "display_name": "base",
   "language": "python",
   "name": "python3"
  },
  "language_info": {
   "codemirror_mode": {
    "name": "ipython",
    "version": 3
   },
   "file_extension": ".py",
   "mimetype": "text/x-python",
   "name": "python",
   "nbconvert_exporter": "python",
   "pygments_lexer": "ipython3",
   "version": "3.11.7"
  }
 },
 "nbformat": 4,
 "nbformat_minor": 2
}
